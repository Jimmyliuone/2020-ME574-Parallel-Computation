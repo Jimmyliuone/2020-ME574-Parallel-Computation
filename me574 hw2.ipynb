{
 "cells": [
  {
   "cell_type": "code",
   "execution_count": 1,
   "metadata": {},
   "outputs": [],
   "source": [
    "import numpy as np\n",
    "from numba import cuda\n",
    "import numba as numba\n",
    "import math\n",
    "import matplotlib.pyplot as plt"
   ]
  },
  {
   "cell_type": "code",
   "execution_count": 2,
   "metadata": {},
   "outputs": [],
   "source": [
    "def gpu_total_memory():\n",
    "    return cuda.current_context().get_memory_info()[1]"
   ]
  },
  {
   "cell_type": "code",
   "execution_count": 3,
   "metadata": {},
   "outputs": [],
   "source": [
    "def gpu_compute_capability():\n",
    "    return cuda.get_current_device().compute_capability"
   ]
  },
  {
   "cell_type": "code",
   "execution_count": 4,
   "metadata": {},
   "outputs": [],
   "source": [
    "def gpu_name():\n",
    "    return cuda.get_current_device().name"
   ]
  },
  {
   "cell_type": "code",
   "execution_count": 5,
   "metadata": {},
   "outputs": [],
   "source": [
    "def max_float64s():\n",
    "    return gpu_total_memory()/8"
   ]
  },
  {
   "cell_type": "code",
   "execution_count": 6,
   "metadata": {},
   "outputs": [],
   "source": [
    "def map_64():\n",
    "    from map_parallel import sArray\n",
    "    M = max_float64s()\n",
    "    N = int(M/2000)\n",
    "    x = np.linspace(0,1,N,dtype = np.float64)\n",
    "    y = sArray(x)\n",
    "    plt.plot(x,y)\n",
    "    "
   ]
  },
  {
   "cell_type": "code",
   "execution_count": 7,
   "metadata": {},
   "outputs": [],
   "source": [
    "@cuda.jit(device = True)\n",
    "def f(x, r):\n",
    "    '''\n",
    "    Execute 1 iteration of the logistic map\n",
    "    '''\n",
    "    return r*x*(1 - x)"
   ]
  },
  {
   "cell_type": "code",
   "execution_count": 44,
   "metadata": {},
   "outputs": [],
   "source": [
    "@cuda.jit\n",
    "def logistic_map_kernel(ss, r, x, transient, steady):\n",
    "    '''\n",
    "    Kernel for parallel iteration of logistic map\n",
    "\n",
    "    Arguments:\n",
    "        ss: 2D numpy device array to store steady state iterates for each value of r\n",
    "        r: 1D  numpy device array of parameter values\n",
    "        x: float initial value\n",
    "        transient: int number of iterations before storing results\n",
    "        steady: int number of iterations to store\n",
    "    '''\n",
    "    n = len(r)\n",
    "    i = cuda.grid(1)\n",
    "    ss[0,i] = f(x,r[i])\n",
    "    for k in range(transient):\n",
    "        ss[0,i] = f(ss[0,i],r[i])\n",
    "    for k in range(steady):\n",
    "        ss[k+1,i] = f(ss[k,i],r[i])"
   ]
  },
  {
   "cell_type": "code",
   "execution_count": 35,
   "metadata": {},
   "outputs": [],
   "source": [
    "def parallel_logistic_map(r, x, transient, steady):\n",
    "    '''\n",
    "    Parallel iteration of the logistic map\n",
    "\n",
    "    Arguments:\n",
    "        r: 1D numpy array of float64 parameter values\n",
    "        x: float initial value\n",
    "        transient: int number of iterations before storing results\n",
    "        steady: int number of iterations to store\n",
    "    Return:\n",
    "        2D numpy array of steady iterates for each entry in r\n",
    "    '''\n",
    "    TPB = 32\n",
    "    n = len(r)\n",
    "    d_r = cuda.to_device(r)\n",
    "    ss = cuda.device_array((steady,n), dtype = np.float64)\n",
    "    blockDims = TPB\n",
    "    gridDims = (n+TPB-1)//TPB\n",
    "    logistic_map_kernel[gridDims, blockDims](ss, d_r, x, transient, steady)\n",
    "    return ss.copy_to_host()"
   ]
  },
  {
   "cell_type": "code",
   "execution_count": 55,
   "metadata": {},
   "outputs": [
    {
     "data": {
      "image/png": "[encoded data removed]",
      "text/plain": [
       "<Figure size 432x288 with 1 Axes>"
      ]
     },
     "metadata": {
      "needs_background": "light"
     },
     "output_type": "display_data"
    }
   ],
   "source": [
    "transient = 1000\n",
    "steady = 8\n",
    "x = 0.5\n",
    "r = np.linspace(0,4,500)\n",
    "ss = parallel_logistic_map(r , x , transient , steady)\n",
    "for i in range(steady):\n",
    "    plt.scatter(r,ss[i,:],s = 0.1)\n",
    "plt.axis([0,4, 0, 1])\n",
    "plt.xlabel('r')\n",
    "plt.ylabel('x value')\n",
    "plt.title('Iterations of the logistic map')\n",
    "plt.show()"
   ]
  }
 ],
 "metadata": {
  "kernelspec": {
   "display_name": "Python 3",
   "language": "python",
   "name": "python3"
  },
  "language_info": {
   "codemirror_mode": {
    "name": "ipython",
    "version": 3
   },
   "file_extension": ".py",
   "mimetype": "text/x-python",
   "name": "python",
   "nbconvert_exporter": "python",
   "pygments_lexer": "ipython3",
   "version": "3.7.6"
  }
 },
 "nbformat": 4,
 "nbformat_minor": 4
}
