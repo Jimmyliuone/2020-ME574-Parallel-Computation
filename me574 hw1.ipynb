{
 "cells": [
  {
   "cell_type": "code",
   "execution_count": 2,
   "metadata": {},
   "outputs": [],
   "source": [
    "import sympy as sp\n",
    "def dn_sin(n):\n",
    "    if n%4 == 0:\n",
    "        return sp.sin(0)\n",
    "    elif n%4 == 1:\n",
    "        return sp.cos(0)\n",
    "    elif n%4 == 2:\n",
    "        return sp.sin(0)*(-1)\n",
    "    else:\n",
    "        return sp.cos(0)*(-1)"
   ]
  },
  {
   "cell_type": "code",
   "execution_count": 64,
   "metadata": {},
   "outputs": [
    {
     "data": {
      "text/latex": [
       "$\\displaystyle -0.0583741434275809$"
      ],
      "text/plain": [
       "-0.0583741434275809"
      ]
     },
     "execution_count": 64,
     "metadata": {},
     "output_type": "execute_result"
    }
   ],
   "source": [
    "def fact(n):\n",
    "    f = 1\n",
    "    for i in range(1,n+1):\n",
    "        f = f * i\n",
    "    return f\n",
    "\n",
    "\n",
    "def taylor_sin(x, n):\n",
    "    sum_t = 0\n",
    "    for i in range(0,n+1):\n",
    "        sum_t = sum_t + (dn_sin(i)*(x**i))/fact(i)\n",
    "    return sum_t\n",
    "\n",
    "taylor_sin(3.2, 30)"
   ]
  },
  {
   "cell_type": "code",
   "execution_count": 101,
   "metadata": {},
   "outputs": [
    {
     "data": {
      "text/plain": [
       "<matplotlib.legend.Legend at 0x20ccb87bac8>"
      ]
     },
     "execution_count": 101,
     "metadata": {},
     "output_type": "execute_result"
    },
    {
     "data": {
      "image/png": "[encoded data removed]",
      "text/plain": [
       "<Figure size 432x288 with 1 Axes>"
      ]
     },
     "metadata": {
      "needs_background": "light"
     },
     "output_type": "display_data"
    }
   ],
   "source": [
    "from matplotlib import pyplot as plt\n",
    "import numpy as np\n",
    "x = np.linspace(-5,5)\n",
    "y = np.zeros(50)\n",
    "for i in range(0,50):\n",
    "    y[i] = sp.sin(x[i])\n",
    "plt.plot(x,y,linewidth = 4)\n",
    "for i in range(2,16,2):\n",
    "    for j in range(0,50):\n",
    "        y[j] = taylor_sin(x[j], i)\n",
    "    plt.plot(x,y)\n",
    "plt.legend(['sin(x)','n=2','n=4','n=6','n=8','n=10','n=12','n=14'])"
   ]
  },
  {
   "cell_type": "code",
   "execution_count": 102,
   "metadata": {},
   "outputs": [],
   "source": [
    "from numpy import linalg as la\n",
    "def measure_diff(ary1, ary2):\n",
    "    a_diff = np.subtract(ary1,ary2)\n",
    "    n_diff = la.norm(a_diff)\n",
    "    return n_diff\n"
   ]
  },
  {
   "cell_type": "code",
   "execution_count": 113,
   "metadata": {
    "scrolled": true
   },
   "outputs": [
    {
     "name": "stdout",
     "output_type": "stream",
     "text": [
      "The truncation order needed is n = 4\n"
     ]
    }
   ],
   "source": [
    "import math\n",
    "x = np.linspace(0,math.pi/4)\n",
    "y_sin = np.zeros(50)\n",
    "y_tay = np.zeros(50)\n",
    "for i in range(0,50):\n",
    "    y_sin[i] = sp.sin(x[i])\n",
    "for i in range(2,16,2):\n",
    "    for j in range(0,50):\n",
    "        y_tay[j] = taylor_sin(x[j], i)\n",
    "    d = measure_diff(y_sin,y_tay)\n",
    "    if d < 1e-2:\n",
    "        print('The truncation order needed is n = '+ str(i))\n",
    "        break"
   ]
  },
  {
   "cell_type": "code",
   "execution_count": 142,
   "metadata": {},
   "outputs": [
    {
     "data": {
      "text/plain": [
       "6"
      ]
     },
     "execution_count": 142,
     "metadata": {},
     "output_type": "execute_result"
    }
   ],
   "source": [
    "def escape(cx, cy, dist, itrs, x0 = 0, y0 = 0):\n",
    "    z = complex(x0,y0)\n",
    "    for i in range(itrs):\n",
    "        zx = z.real\n",
    "        zy = z.imag\n",
    "        z = z*z + complex(cx,cy)\n",
    "        zx = z.real\n",
    "        zy = z.imag\n",
    "        if la.norm([zx,zy]) > dist:\n",
    "            break\n",
    "    return i\n",
    "\n",
    "\n",
    "escape(0.4,0.5,2.5,256)"
   ]
  },
  {
   "cell_type": "code",
   "execution_count": 169,
   "metadata": {},
   "outputs": [],
   "source": [
    "def mandelbrot(cx,cy,dist,itrs):\n",
    "    lex = len(cx)\n",
    "    ley = len(cy)\n",
    "    ary = np.zeros((lex,ley))\n",
    "    for i in range(ley):\n",
    "        for j in range(lex):\n",
    "            ary[i,j] = escape(cx[j],cy[i],2.5,256)\n",
    "    return ary\n",
    "\n"
   ]
  },
  {
   "cell_type": "code",
   "execution_count": 170,
   "metadata": {},
   "outputs": [
    {
     "name": "stdout",
     "output_type": "stream",
     "text": [
      "The execution time is 88.1625587940216 seconds\n"
     ]
    }
   ],
   "source": [
    "import time\n",
    "cx = np.linspace(-2.5,2.5,512)\n",
    "cy = np.linspace(-2.5,2.5,512)\n",
    "lex = len(cx)\n",
    "ley = len(cy)\n",
    "start = time.time()\n",
    "bo_ary = mandelbrot(cx,cy,2.5,256)\n",
    "end = time.time()\n",
    "for i in range(lex):\n",
    "    for j in range(ley):\n",
    "        if bo_ary[i,j] < 255:\n",
    "            bo_ary[i,j] = 1\n",
    "        else:\n",
    "            bo_ary[i,j] = 0\n",
    "exe = end - start\n",
    "print('The execution time is '+ str(exe) + ' seconds')\n"
   ]
  },
  {
   "cell_type": "code",
   "execution_count": 175,
   "metadata": {},
   "outputs": [
    {
     "data": {
      "text/plain": [
       "<matplotlib.collections.QuadMesh at 0x20ccc3ea108>"
      ]
     },
     "execution_count": 175,
     "metadata": {},
     "output_type": "execute_result"
    },
    {
     "data": {
      "image/png": "[encoded data removed]",
      "text/plain": [
       "<Figure size 432x288 with 1 Axes>"
      ]
     },
     "metadata": {
      "needs_background": "light"
     },
     "output_type": "display_data"
    }
   ],
   "source": [
    "plt.pcolormesh(cx,cy,bo_ary)"
   ]
  }
 ],
 "metadata": {
  "kernelspec": {
   "display_name": "Python 3",
   "language": "python",
   "name": "python3"
  },
  "language_info": {
   "codemirror_mode": {
    "name": "ipython",
    "version": 3
   },
   "file_extension": ".py",
   "mimetype": "text/x-python",
   "name": "python",
   "nbconvert_exporter": "python",
   "pygments_lexer": "ipython3",
   "version": "3.7.6"
  }
 },
 "nbformat": 4,
 "nbformat_minor": 4
}
